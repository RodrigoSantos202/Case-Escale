{
 "cells": [
  {
   "cell_type": "code",
   "execution_count": 140,
   "metadata": {},
   "outputs": [],
   "source": [
    "import pyspark\n",
    "from   pyspark.sql import SparkSession\n",
    "from   pyspark.sql.functions import to_date, date_format\n",
    "import pyspark.sql.functions as F\n",
    "from   matplotlib import pyplot as plt\n",
    "import seaborn as sns\n",
    "import matplotlib.pyplot as plt\n",
    "import pyspark.sql.functions\n",
    "%matplotlib inline"
   ]
  },
  {
   "cell_type": "code",
   "execution_count": 141,
   "metadata": {},
   "outputs": [],
   "source": [
    "DB_HOST = 'challenge.prod.public.data.escale.com.br'\n",
    "DB_NAME = 'challenge'\n",
    "DB_PORT = '5432'\n",
    "DB_USER = 'challenge'\n",
    "DB_PASS = '******'\n",
    "SPARK_APP = 'Case Escale'"
   ]
  },
  {
   "cell_type": "code",
   "execution_count": 142,
   "metadata": {},
   "outputs": [],
   "source": [
    "spark = SparkSession \\\n",
    "        .builder \\\n",
    "        .appName(SPARK_APP) \\\n",
    "        .config(\"spark.jars\", \"/path_to_postgresDriver/postgresql-postgresql-42.2.19.jre7.jar\") \\\n",
    "        .getOrCreate()"
   ]
  },
  {
   "cell_type": "code",
   "execution_count": 143,
   "metadata": {},
   "outputs": [],
   "source": [
    "# Funcao que recebe as variaveis contendo o host e credenciais para acessar a base de dados\n",
    "\n",
    "def tableReader(tableName):\n",
    "  global DB_HOST\n",
    "  global DB_NAME\n",
    "  global DB_PORT\n",
    "  global DB_USER\n",
    "  global DB_PASS\n",
    "  tempDf = spark.read \\\n",
    "            .format(\"jdbc\") \\\n",
    "            .option(\"url\", f\"jdbc:postgresql://{DB_HOST}:{DB_PORT}/{DB_NAME}\") \\\n",
    "            .option(\"dbtable\", tableName) \\\n",
    "            .option(\"user\", DB_USER) \\\n",
    "            .option(\"password\", DB_PASS) \\\n",
    "            .option(\"driver\", \"org.postgresql.Driver\") \\\n",
    "            .load()\n",
    "  return tempDf"
   ]
  },
  {
   "cell_type": "code",
   "execution_count": 111,
   "metadata": {},
   "outputs": [],
   "source": [
    "def executeQuery(query):\n",
    "    tempDf = spark.sql(query)\n",
    "    return tempDf.toPandas()"
   ]
  },
  {
   "cell_type": "code",
   "execution_count": 112,
   "metadata": {},
   "outputs": [],
   "source": [
    "##\n",
    "attendacesDf = tableReader(\"attendances\")\n",
    "attendancesCallsDf = tableReader(\"attendances_calls\")"
   ]
  },
  {
   "cell_type": "code",
   "execution_count": 113,
   "metadata": {},
   "outputs": [],
   "source": [
    "# Relacionamento entre as tabelas Attendances e Attendances_call\n",
    "\n",
    "newAttendacesDf = attendancesCallsDf.join(attendacesDf, attendancesCallsDf.attendance_id == attendacesDf.id, how=\"inner\")"
   ]
  },
  {
   "cell_type": "code",
   "execution_count": 114,
   "metadata": {},
   "outputs": [],
   "source": [
    "# Criacao do Dataframe newAttendacesDf contendo apenas as colunas necessarias para elaboracao dos kpis\n",
    "\n",
    "newAttendacesDf = newAttendacesDf.select(F.col(\"attendance_id\"),\n",
    "                                         F.col(\"token\").alias(\"token_key\"),\n",
    "                                         F.col(\"main_connection\"),\n",
    "                                         F.when(F.col(\"type_id\") == 1, \"Venda\").otherwise(\"Não Venda\").alias(\"record_type\"),\n",
    "                                         F.col(\"monthly_value\").alias(\"monthly_amount\")) \\\n",
    "                                  .dropDuplicates()\n",
    "\n",
    "newAttendacesDf = newAttendacesDf.withColumn(\"attendance_key\", F.monotonically_increasing_id())\n",
    "\n",
    "newAttendacesDf.createOrReplaceTempView(\"dim_attendance\")\n"
   ]
  },
  {
   "cell_type": "code",
   "execution_count": 115,
   "metadata": {},
   "outputs": [],
   "source": [
    "##\n",
    "lineMKTFinalDf = tableReader(\"lines_mkt_final\")"
   ]
  },
  {
   "cell_type": "code",
   "execution_count": 116,
   "metadata": {},
   "outputs": [],
   "source": [
    "newlineMKTFinalDf = lineMKTFinalDf.select(F.col(\"id\").alias(\"line_key\"),\n",
    "                                          F.col(\"line_id\"),\n",
    "                                          F.col(\"midia\"),\n",
    "                                          F.col(\"campanha\").alias(\"campaign\"),\n",
    "                                          F.col(\"fonte\").alias(\"source\"),\n",
    "                                          F.col(\"pagina\").alias(\"web_page\"))\\\n",
    "                                   .dropDuplicates()\n",
    "newlineMKTFinalDf.createOrReplaceTempView(\"dim_line_mkt\")\n"
   ]
  },
  {
   "cell_type": "code",
   "execution_count": 117,
   "metadata": {
    "scrolled": true
   },
   "outputs": [],
   "source": [
    "calendarDf = spark.sql(\"SELECT sequence(to_date('2020-01-01'), to_date('2020-12-31'), interval 1 day) as date\")\n",
    "calendarDf = calendarDf.withColumn(\"date\", F.explode(F.col(\"date\")))\n",
    "calendarDf = calendarDf.withColumn(\"day\", F.dayofmonth(\"date\"))\n",
    "calendarDf = calendarDf.withColumn(\"month\", F.month(\"date\"))\n",
    "calendarDf = calendarDf.withColumn(\"year\", F.year(\"date\"))\n",
    "calendarDf = calendarDf.withColumn(\"quarter\", F.quarter(\"date\"))"
   ]
  },
  {
   "cell_type": "code",
   "execution_count": 118,
   "metadata": {},
   "outputs": [],
   "source": [
    "#callHistoryQueueDf = callHistoryQueueDf.join(newCalendarDf, newCalendarDf.date == callHistoryQueueDf.created_at, how=\"inner\")\n",
    "\n",
    "newCalendarDf = calendarDf.select(F.col(\"date\"),\n",
    "                                     F.col(\"day\"),\n",
    "                                     F.col(\"month\"),\n",
    "                                     F.col(\"quarter\"),\n",
    "                                     F.col(\"year\"))\\\n",
    "                                     .dropDuplicates()\n",
    "\n",
    "newCalendarDf.createOrReplaceTempView(\"dim_calendar\")      \n"
   ]
  },
  {
   "cell_type": "code",
   "execution_count": 119,
   "metadata": {},
   "outputs": [],
   "source": [
    "callHistoryQueueDf = tableReader(\"call_history_queue\")\n",
    "modalityDf = tableReader(\"telephony_types\")\n",
    "callStatusDf = tableReader(\"telephony_types\")\n",
    "groupCallDf = tableReader(\"telephony_types\")"
   ]
  },
  {
   "cell_type": "code",
   "execution_count": 120,
   "metadata": {},
   "outputs": [],
   "source": [
    "modalityDf = modalityDf.selectExpr(\"id as modality_id\", \"description as modality\")\\\n",
    "                       .dropDuplicates()\n",
    "                           \n",
    "callStatusDf = callStatusDf.selectExpr(\"id as verb_type_id\", \"description as call_status\")\\\n",
    "                           .dropDuplicates()\n",
    "                           \n",
    "groupCallDf = groupCallDf.selectExpr(\"id as line_type_id\", \"description as call_group\")\\\n",
    "                         .dropDuplicates()\n",
    "                                             \n",
    "newCallHistoryQueueDf = callHistoryQueueDf.join(modalityDf,\n",
    "                                                callHistoryQueueDf.queue_log_modality_types_id == modalityDf.modality_id,\n",
    "                                                how=\"left\")\n",
    "\n",
    "newCallHistoryQueueDf = newCallHistoryQueueDf.join(callStatusDf,\n",
    "                                                   callHistoryQueueDf.queue_log_verb_types_id == callStatusDf.verb_type_id,\n",
    "                                                   how=\"left\")\n",
    "                                             \n",
    "newCallHistoryQueueDf = newCallHistoryQueueDf.join(groupCallDf,\n",
    "                                                   callHistoryQueueDf.queue_log_line_types_id == groupCallDf.line_type_id,\n",
    "                                                   how=\"left\")\n",
    "\n",
    "newCallHistoryQueueDf = newCallHistoryQueueDf.select(F.col(\"id\").alias(\"call_key\"),\n",
    "                                                  F.col(\"id\").alias(\"call_id\"),\n",
    "                                                  F.col(\"token\").alias(\"token_key\"),\n",
    "                                                  F.col(\"lines_id\").alias(\"line_id\"),\n",
    "                                                  F.col(\"modality\"),\n",
    "                                                  F.col(\"call_status\"),\n",
    "                                                  F.col(\"call_group\"),\n",
    "                                                  F.col(\"uf\"),\n",
    "                                                  F.col(\"duration\"),\n",
    "                                                  F.col(\"agent\"),\n",
    "                                                  F.to_date(\"created_at\", \"yyyy-MM-dd\").alias(\"created_at\"))\\\n",
    "                                          .dropDuplicates()\n",
    "newCallHistoryQueueDf.createOrReplaceTempView(\"fact_call\")"
   ]
  },
  {
   "cell_type": "code",
   "execution_count": 126,
   "metadata": {},
   "outputs": [],
   "source": [
    "query01=\"\"\"\n",
    "select  dc.date, count(fc.call_id) call_quantity\n",
    "from    dim_calendar dc\n",
    "left join\n",
    "        fact_call fc\n",
    "on      fc.created_at = dc.date\n",
    "where   dc.year = 2020\n",
    "and     dc.month = 6\n",
    "group by dc.date\n",
    "order by dc.date\n",
    "\"\"\""
   ]
  },
  {
   "cell_type": "code",
   "execution_count": 127,
   "metadata": {},
   "outputs": [
    {
     "data": {
      "text/html": [
       "<div>\n",
       "<style scoped>\n",
       "    .dataframe tbody tr th:only-of-type {\n",
       "        vertical-align: middle;\n",
       "    }\n",
       "\n",
       "    .dataframe tbody tr th {\n",
       "        vertical-align: top;\n",
       "    }\n",
       "\n",
       "    .dataframe thead th {\n",
       "        text-align: right;\n",
       "    }\n",
       "</style>\n",
       "<table border=\"1\" class=\"dataframe\">\n",
       "  <thead>\n",
       "    <tr style=\"text-align: right;\">\n",
       "      <th></th>\n",
       "      <th>date</th>\n",
       "      <th>call_quantity</th>\n",
       "    </tr>\n",
       "  </thead>\n",
       "  <tbody>\n",
       "    <tr>\n",
       "      <th>0</th>\n",
       "      <td>2020-06-01</td>\n",
       "      <td>12876</td>\n",
       "    </tr>\n",
       "    <tr>\n",
       "      <th>1</th>\n",
       "      <td>2020-06-02</td>\n",
       "      <td>11223</td>\n",
       "    </tr>\n",
       "    <tr>\n",
       "      <th>2</th>\n",
       "      <td>2020-06-03</td>\n",
       "      <td>10396</td>\n",
       "    </tr>\n",
       "    <tr>\n",
       "      <th>3</th>\n",
       "      <td>2020-06-04</td>\n",
       "      <td>10615</td>\n",
       "    </tr>\n",
       "    <tr>\n",
       "      <th>4</th>\n",
       "      <td>2020-06-05</td>\n",
       "      <td>11608</td>\n",
       "    </tr>\n",
       "    <tr>\n",
       "      <th>5</th>\n",
       "      <td>2020-06-06</td>\n",
       "      <td>7592</td>\n",
       "    </tr>\n",
       "    <tr>\n",
       "      <th>6</th>\n",
       "      <td>2020-06-07</td>\n",
       "      <td>0</td>\n",
       "    </tr>\n",
       "    <tr>\n",
       "      <th>7</th>\n",
       "      <td>2020-06-08</td>\n",
       "      <td>12849</td>\n",
       "    </tr>\n",
       "    <tr>\n",
       "      <th>8</th>\n",
       "      <td>2020-06-09</td>\n",
       "      <td>12506</td>\n",
       "    </tr>\n",
       "    <tr>\n",
       "      <th>9</th>\n",
       "      <td>2020-06-10</td>\n",
       "      <td>12061</td>\n",
       "    </tr>\n",
       "  </tbody>\n",
       "</table>\n",
       "</div>"
      ],
      "text/plain": [
       "         date  call_quantity\n",
       "0  2020-06-01          12876\n",
       "1  2020-06-02          11223\n",
       "2  2020-06-03          10396\n",
       "3  2020-06-04          10615\n",
       "4  2020-06-05          11608\n",
       "5  2020-06-06           7592\n",
       "6  2020-06-07              0\n",
       "7  2020-06-08          12849\n",
       "8  2020-06-09          12506\n",
       "9  2020-06-10          12061"
      ]
     },
     "execution_count": 127,
     "metadata": {},
     "output_type": "execute_result"
    }
   ],
   "source": [
    "question01Df = executeQuery(query01)\n",
    "question01Df.head(10)"
   ]
  },
  {
   "cell_type": "code",
   "execution_count": 129,
   "metadata": {},
   "outputs": [
    {
     "data": {
      "image/png": "[encoded data removed]",
      "text/plain": [
       "<Figure size 1296x576 with 1 Axes>"
      ]
     },
     "metadata": {
      "needs_background": "light"
     },
     "output_type": "display_data"
    }
   ],
   "source": [
    "question01Df = executeQuery(query01)\n",
    "question01Df.plot.bar(x='date', y='call_quantity', rot=0)\n",
    "plt.rcParams['figure.figsize'] = (18,8)\n",
    "plt.xticks(rotation=45)\n",
    "plt.show()"
   ]
  },
  {
   "cell_type": "code",
   "execution_count": 149,
   "metadata": {},
   "outputs": [],
   "source": [
    "query02=\"\"\"\n",
    "  select  dl.midia,\n",
    "          sum(coalesce(da.monthly_amount, 0)) /\n",
    "          count(distinct case when da.record_type = 'Venda' then fc.call_id end) as monthly_amount,\n",
    "          sum(coalesce(da.monthly_amount, 0)) / \n",
    "          count(distinct fc.call_id) as call_ticket\n",
    "  from    fact_call fc\n",
    "  inner join\n",
    "          dim_attendance da\n",
    "  on      da.token_key = fc.token_key\n",
    "  inner join\n",
    "          dim_line_mkt dl\n",
    "  on      dl.line_id = fc.line_id\n",
    "  group by\n",
    "          dl.midia\n",
    "\"\"\""
   ]
  },
  {
   "cell_type": "code",
   "execution_count": 150,
   "metadata": {},
   "outputs": [
    {
     "data": {
      "text/html": [
       "<div>\n",
       "<style scoped>\n",
       "    .dataframe tbody tr th:only-of-type {\n",
       "        vertical-align: middle;\n",
       "    }\n",
       "\n",
       "    .dataframe tbody tr th {\n",
       "        vertical-align: top;\n",
       "    }\n",
       "\n",
       "    .dataframe thead th {\n",
       "        text-align: right;\n",
       "    }\n",
       "</style>\n",
       "<table border=\"1\" class=\"dataframe\">\n",
       "  <thead>\n",
       "    <tr style=\"text-align: right;\">\n",
       "      <th></th>\n",
       "      <th>midia</th>\n",
       "      <th>monthly_amount</th>\n",
       "      <th>call_ticket</th>\n",
       "    </tr>\n",
       "  </thead>\n",
       "  <tbody>\n",
       "    <tr>\n",
       "      <th>0</th>\n",
       "      <td>CPC</td>\n",
       "      <td>114.559194</td>\n",
       "      <td>15.788926</td>\n",
       "    </tr>\n",
       "    <tr>\n",
       "      <th>1</th>\n",
       "      <td>ORGANIC</td>\n",
       "      <td>116.060749</td>\n",
       "      <td>19.692870</td>\n",
       "    </tr>\n",
       "    <tr>\n",
       "      <th>2</th>\n",
       "      <td>SMS</td>\n",
       "      <td>109.798507</td>\n",
       "      <td>13.686512</td>\n",
       "    </tr>\n",
       "  </tbody>\n",
       "</table>\n",
       "</div>"
      ],
      "text/plain": [
       "     midia  monthly_amount  call_ticket\n",
       "0      CPC      114.559194    15.788926\n",
       "1  ORGANIC      116.060749    19.692870\n",
       "2      SMS      109.798507    13.686512"
      ]
     },
     "execution_count": 150,
     "metadata": {},
     "output_type": "execute_result"
    }
   ],
   "source": [
    "question02Df = executeQuery(query02)\n",
    "question02Df.head()"
   ]
  },
  {
   "cell_type": "code",
   "execution_count": 153,
   "metadata": {},
   "outputs": [
    {
     "data": {
      "image/png": "[encoded data removed]",
      "text/plain": [
       "<Figure size 1296x576 with 1 Axes>"
      ]
     },
     "metadata": {
      "needs_background": "light"
     },
     "output_type": "display_data"
    }
   ],
   "source": [
    "question02Df = executeQuery(query02)\n",
    "question02Df.plot(x=\"midia\", y=[\"monthly_amount\", \"call_ticket\"], kind=\"bar\")\n",
    "plt.rcParams['figure.figsize'] = (18,8)"
   ]
  },
  {
   "cell_type": "code",
   "execution_count": 168,
   "metadata": {},
   "outputs": [],
   "source": [
    "query03A=\"\"\"\n",
    "select dm.midia\n",
    "      ,count(distinct fc.call_id) as call \n",
    "from dim_line_mkt dm\n",
    "inner join \n",
    "         fact_call fc\n",
    "on    dm.line_id = fc.line_id         \n",
    "where   fc.modality = 'Entrada'\n",
    "group by\n",
    "        dm.midia\n",
    "\"\"\""
   ]
  },
  {
   "cell_type": "code",
   "execution_count": 161,
   "metadata": {},
   "outputs": [
    {
     "data": {
      "text/html": [
       "<div>\n",
       "<style scoped>\n",
       "    .dataframe tbody tr th:only-of-type {\n",
       "        vertical-align: middle;\n",
       "    }\n",
       "\n",
       "    .dataframe tbody tr th {\n",
       "        vertical-align: top;\n",
       "    }\n",
       "\n",
       "    .dataframe thead th {\n",
       "        text-align: right;\n",
       "    }\n",
       "</style>\n",
       "<table border=\"1\" class=\"dataframe\">\n",
       "  <thead>\n",
       "    <tr style=\"text-align: right;\">\n",
       "      <th></th>\n",
       "      <th>midia</th>\n",
       "      <th>call</th>\n",
       "    </tr>\n",
       "  </thead>\n",
       "  <tbody>\n",
       "    <tr>\n",
       "      <th>0</th>\n",
       "      <td>CPC</td>\n",
       "      <td>17109</td>\n",
       "    </tr>\n",
       "    <tr>\n",
       "      <th>1</th>\n",
       "      <td>ORGANIC</td>\n",
       "      <td>144966</td>\n",
       "    </tr>\n",
       "    <tr>\n",
       "      <th>2</th>\n",
       "      <td>SMS</td>\n",
       "      <td>10380</td>\n",
       "    </tr>\n",
       "  </tbody>\n",
       "</table>\n",
       "</div>"
      ],
      "text/plain": [
       "     midia    call\n",
       "0      CPC   17109\n",
       "1  ORGANIC  144966\n",
       "2      SMS   10380"
      ]
     },
     "execution_count": 161,
     "metadata": {},
     "output_type": "execute_result"
    }
   ],
   "source": [
    "question03ADf = executeQuery(query03A)\n",
    "question03ADf.head()"
   ]
  },
  {
   "cell_type": "code",
   "execution_count": 169,
   "metadata": {},
   "outputs": [
    {
     "data": {
      "image/png": "[encoded data removed]",
      "text/plain": [
       "<Figure size 1296x576 with 1 Axes>"
      ]
     },
     "metadata": {
      "needs_background": "light"
     },
     "output_type": "display_data"
    }
   ],
   "source": [
    "question03ADf = executeQuery(query03A)\n",
    "question03ADf.plot(x=\"midia\", y=[\"call\"], kind=\"barh\")\n",
    "plt.rcParams['figure.figsize']= (18,8)"
   ]
  },
  {
   "cell_type": "code",
   "execution_count": 170,
   "metadata": {},
   "outputs": [],
   "source": [
    "query03B =\"\"\"\n",
    "select \n",
    "        dm.campaign\n",
    "       ,count(distinct fc.call_id) as call_id \n",
    "from dim_line_mkt dm\n",
    "inner join\n",
    "        fact_call   fc\n",
    "on    dm.line_id  = fc.line_id    \n",
    "where fc.modality ='Entrada'\n",
    "group by \n",
    "       dm.campaign\n",
    "order by \n",
    "       call_id asc\n",
    "limit 20       \n",
    "\"\"\""
   ]
  },
  {
   "cell_type": "code",
   "execution_count": 171,
   "metadata": {},
   "outputs": [
    {
     "data": {
      "text/html": [
       "<div>\n",
       "<style scoped>\n",
       "    .dataframe tbody tr th:only-of-type {\n",
       "        vertical-align: middle;\n",
       "    }\n",
       "\n",
       "    .dataframe tbody tr th {\n",
       "        vertical-align: top;\n",
       "    }\n",
       "\n",
       "    .dataframe thead th {\n",
       "        text-align: right;\n",
       "    }\n",
       "</style>\n",
       "<table border=\"1\" class=\"dataframe\">\n",
       "  <thead>\n",
       "    <tr style=\"text-align: right;\">\n",
       "      <th></th>\n",
       "      <th>campaign</th>\n",
       "      <th>call_id</th>\n",
       "    </tr>\n",
       "  </thead>\n",
       "  <tbody>\n",
       "    <tr>\n",
       "      <th>0</th>\n",
       "      <td>PDP_XY_B2CF_SOCA_CNC_RMK-XY-RCL-OUT-15D-ESC_1</td>\n",
       "      <td>1</td>\n",
       "    </tr>\n",
       "    <tr>\n",
       "      <th>1</th>\n",
       "      <td>PDP_ESC_B2CF_SOCA_ATR_INT-IPHONE_1</td>\n",
       "      <td>2</td>\n",
       "    </tr>\n",
       "    <tr>\n",
       "      <th>2</th>\n",
       "      <td>ESC_SEOB_ecl_sub</td>\n",
       "      <td>2</td>\n",
       "    </tr>\n",
       "    <tr>\n",
       "      <th>3</th>\n",
       "      <td>PDP_XY_B2CF_GDN_CNC_RMK-XY-RCL-CLA-15D-PDP_1</td>\n",
       "      <td>2</td>\n",
       "    </tr>\n",
       "    <tr>\n",
       "      <th>4</th>\n",
       "      <td>ESC_SEOB_produtos_internet_sub</td>\n",
       "      <td>2</td>\n",
       "    </tr>\n",
       "  </tbody>\n",
       "</table>\n",
       "</div>"
      ],
      "text/plain": [
       "                                        campaign  call_id\n",
       "0  PDP_XY_B2CF_SOCA_CNC_RMK-XY-RCL-OUT-15D-ESC_1        1\n",
       "1             PDP_ESC_B2CF_SOCA_ATR_INT-IPHONE_1        2\n",
       "2                               ESC_SEOB_ecl_sub        2\n",
       "3   PDP_XY_B2CF_GDN_CNC_RMK-XY-RCL-CLA-15D-PDP_1        2\n",
       "4                 ESC_SEOB_produtos_internet_sub        2"
      ]
     },
     "execution_count": 171,
     "metadata": {},
     "output_type": "execute_result"
    }
   ],
   "source": [
    "question03BDf = executeQuery(query03B)\n",
    "question03BDf.head()"
   ]
  },
  {
   "cell_type": "code",
   "execution_count": 173,
   "metadata": {},
   "outputs": [
    {
     "data": {
      "image/png": "[encoded data removed]",
      "text/plain": [
       "<Figure size 1296x720 with 1 Axes>"
      ]
     },
     "metadata": {
      "needs_background": "light"
     },
     "output_type": "display_data"
    }
   ],
   "source": [
    "question03BDf = executeQuery(query03B)\n",
    "question03BDf.plot(x=\"campaign\", y=[\"call_id\"], kind=\"barh\")\n",
    "plt.xticks(rotation=40)\n",
    "plt.rcParams['figure.figsize'] = (18,10)\n",
    "plt.show()"
   ]
  },
  {
   "cell_type": "code",
   "execution_count": 174,
   "metadata": {},
   "outputs": [],
   "source": [
    "query04=\"\"\"\n",
    "select  fc.modality,\n",
    "        da.record_type,\n",
    "        coalesce(da.monthly_amount,0) as monthly_amount       \n",
    "from    fact_call fc\n",
    "inner join\n",
    "        dim_attendance da\n",
    "on      fc.token_key = da.token_key  \n",
    "where   fc.modality !='Não Vendas'\n",
    "and     da.record_type = 'Venda'\n",
    "\"\"\""
   ]
  },
  {
   "cell_type": "code",
   "execution_count": 175,
   "metadata": {},
   "outputs": [
    {
     "data": {
      "text/html": [
       "<div>\n",
       "<style scoped>\n",
       "    .dataframe tbody tr th:only-of-type {\n",
       "        vertical-align: middle;\n",
       "    }\n",
       "\n",
       "    .dataframe tbody tr th {\n",
       "        vertical-align: top;\n",
       "    }\n",
       "\n",
       "    .dataframe thead th {\n",
       "        text-align: right;\n",
       "    }\n",
       "</style>\n",
       "<table border=\"1\" class=\"dataframe\">\n",
       "  <thead>\n",
       "    <tr style=\"text-align: right;\">\n",
       "      <th></th>\n",
       "      <th>modality</th>\n",
       "      <th>record_type</th>\n",
       "      <th>monthly_amount</th>\n",
       "    </tr>\n",
       "  </thead>\n",
       "  <tbody>\n",
       "    <tr>\n",
       "      <th>0</th>\n",
       "      <td>Saída</td>\n",
       "      <td>Venda</td>\n",
       "      <td>99.0</td>\n",
       "    </tr>\n",
       "    <tr>\n",
       "      <th>1</th>\n",
       "      <td>Entrada</td>\n",
       "      <td>Venda</td>\n",
       "      <td>74.0</td>\n",
       "    </tr>\n",
       "    <tr>\n",
       "      <th>2</th>\n",
       "      <td>Entrada</td>\n",
       "      <td>Venda</td>\n",
       "      <td>49.0</td>\n",
       "    </tr>\n",
       "    <tr>\n",
       "      <th>3</th>\n",
       "      <td>Entrada</td>\n",
       "      <td>Venda</td>\n",
       "      <td>49.0</td>\n",
       "    </tr>\n",
       "    <tr>\n",
       "      <th>4</th>\n",
       "      <td>Entrada</td>\n",
       "      <td>Venda</td>\n",
       "      <td>229.0</td>\n",
       "    </tr>\n",
       "  </tbody>\n",
       "</table>\n",
       "</div>"
      ],
      "text/plain": [
       "  modality record_type  monthly_amount\n",
       "0    Saída       Venda            99.0\n",
       "1  Entrada       Venda            74.0\n",
       "2  Entrada       Venda            49.0\n",
       "3  Entrada       Venda            49.0\n",
       "4  Entrada       Venda           229.0"
      ]
     },
     "execution_count": 175,
     "metadata": {},
     "output_type": "execute_result"
    }
   ],
   "source": [
    "question04Df = executeQuery(query04)\n",
    "question04Df.head()"
   ]
  },
  {
   "cell_type": "code",
   "execution_count": 181,
   "metadata": {},
   "outputs": [
    {
     "data": {
      "text/plain": [
       "<AxesSubplot:xlabel='modality', ylabel='monthly_amount'>"
      ]
     },
     "execution_count": 181,
     "metadata": {},
     "output_type": "execute_result"
    },
    {
     "data": {
      "image/png": "[encoded data removed]",
      "text/plain": [
       "<Figure size 1296x720 with 1 Axes>"
      ]
     },
     "metadata": {
      "needs_background": "light"
     },
     "output_type": "display_data"
    }
   ],
   "source": [
    "question04Df = executeQuery(query04a)\n",
    "sns.boxplot(x=\"modality\", y=\"monthly_amount\", data=question04Df, palette=\"Set3\")"
   ]
  },
  {
   "cell_type": "code",
   "execution_count": 178,
   "metadata": {},
   "outputs": [],
   "source": [
    "query05=\"\"\"\n",
    "select fc.uf,\n",
    "       sum(coalesce(da.monthly_amount, 0)) as monthly_amount\n",
    "from fact_call fc \n",
    "left join\n",
    "       dim_attendance da\n",
    "on     fc.token_key = da.token_key  \n",
    "where da.record_type ='Venda'\n",
    "group by\n",
    "        fc.uf\n",
    "order by \n",
    "        monthly_amount asc    \n",
    "     \n",
    "       \n",
    "\"\"\""
   ]
  },
  {
   "cell_type": "code",
   "execution_count": 179,
   "metadata": {},
   "outputs": [
    {
     "data": {
      "text/html": [
       "<div>\n",
       "<style scoped>\n",
       "    .dataframe tbody tr th:only-of-type {\n",
       "        vertical-align: middle;\n",
       "    }\n",
       "\n",
       "    .dataframe tbody tr th {\n",
       "        vertical-align: top;\n",
       "    }\n",
       "\n",
       "    .dataframe thead th {\n",
       "        text-align: right;\n",
       "    }\n",
       "</style>\n",
       "<table border=\"1\" class=\"dataframe\">\n",
       "  <thead>\n",
       "    <tr style=\"text-align: right;\">\n",
       "      <th></th>\n",
       "      <th>uf</th>\n",
       "      <th>monthly_amount</th>\n",
       "    </tr>\n",
       "  </thead>\n",
       "  <tbody>\n",
       "    <tr>\n",
       "      <th>0</th>\n",
       "      <td>RR</td>\n",
       "      <td>89.0</td>\n",
       "    </tr>\n",
       "    <tr>\n",
       "      <th>1</th>\n",
       "      <td>AP</td>\n",
       "      <td>208.0</td>\n",
       "    </tr>\n",
       "    <tr>\n",
       "      <th>2</th>\n",
       "      <td>AC</td>\n",
       "      <td>533.0</td>\n",
       "    </tr>\n",
       "    <tr>\n",
       "      <th>3</th>\n",
       "      <td>RO</td>\n",
       "      <td>1333.0</td>\n",
       "    </tr>\n",
       "    <tr>\n",
       "      <th>4</th>\n",
       "      <td>TO</td>\n",
       "      <td>2363.0</td>\n",
       "    </tr>\n",
       "  </tbody>\n",
       "</table>\n",
       "</div>"
      ],
      "text/plain": [
       "   uf  monthly_amount\n",
       "0  RR            89.0\n",
       "1  AP           208.0\n",
       "2  AC           533.0\n",
       "3  RO          1333.0\n",
       "4  TO          2363.0"
      ]
     },
     "execution_count": 179,
     "metadata": {},
     "output_type": "execute_result"
    }
   ],
   "source": [
    "question05Df = executeQuery(query05)\n",
    "question05Df.head()"
   ]
  },
  {
   "cell_type": "code",
   "execution_count": 180,
   "metadata": {
    "scrolled": false
   },
   "outputs": [
    {
     "data": {
      "image/png": "[encoded data removed]",
      "text/plain": [
       "<Figure size 1296x720 with 1 Axes>"
      ]
     },
     "metadata": {
      "needs_background": "light"
     },
     "output_type": "display_data"
    }
   ],
   "source": [
    "question05Df = executeQuery(query05)\n",
    "question05Df.plot(x=\"uf\", y=\"monthly_amount\", kind=\"barh\")\n",
    "plt.rcParams['figure.figsize'] = (18,10)"
   ]
  },
  {
   "cell_type": "code",
   "execution_count": 26,
   "metadata": {},
   "outputs": [],
   "source": [
    "spark.stop()"
   ]
  }
 ],
 "metadata": {
  "kernelspec": {
   "display_name": "Python 3",
   "language": "python",
   "name": "python3"
  },
  "language_info": {
   "codemirror_mode": {
    "name": "ipython",
    "version": 3
   },
   "file_extension": ".py",
   "mimetype": "text/x-python",
   "name": "python",
   "nbconvert_exporter": "python",
   "pygments_lexer": "ipython3",
   "version": "3.8.5"
  }
 },
 "nbformat": 4,
 "nbformat_minor": 2
}
