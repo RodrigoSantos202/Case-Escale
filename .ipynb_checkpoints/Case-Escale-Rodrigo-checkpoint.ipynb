{
 "cells": [
  {
   "cell_type": "code",
   "execution_count": 1,
   "metadata": {},
   "outputs": [],
   "source": [
    "import pyspark\n",
    "from   pyspark.sql import SparkSession\n",
    "from   pyspark.sql.functions import to_date, date_format\n",
    "import pyspark.sql.functions as F\n",
    "from   matplotlib import pyplot as plt\n",
    "import seaborn as sns\n",
    "import matplotlib.pyplot as plt\n",
    "import pyspark.sql.functions\n",
    "%matplotlib inline"
   ]
  },
  {
   "cell_type": "code",
   "execution_count": 2,
   "metadata": {},
   "outputs": [],
   "source": [
    "DB_HOST = 'challenge.prod.public.data.escale.com.br'\n",
    "DB_NAME = 'challenge'\n",
    "DB_PORT = '5432'\n",
    "DB_USER = 'challenge'\n",
    "DB_PASS = 'Escale@2020'\n",
    "SPARK_APP = 'Case Escale'"
   ]
  },
  {
   "cell_type": "code",
   "execution_count": 3,
   "metadata": {},
   "outputs": [],
   "source": [
    "spark = SparkSession \\\n",
    "        .builder \\\n",
    "        .appName(SPARK_APP) \\\n",
    "        .config(\"spark.jars\", \"/path_to_postgresDriver/postgresql-postgresql-42.2.19.jre7.jar\") \\\n",
    "        .getOrCreate()"
   ]
  },
  {
   "cell_type": "code",
   "execution_count": 4,
   "metadata": {},
   "outputs": [],
   "source": [
    "# Funcao que recebe as variaveis contendo o host e credenciais para acessar a base de dados\n",
    "\n",
    "def tableReader(tableName):\n",
    "  global DB_HOST\n",
    "  global DB_NAME\n",
    "  global DB_PORT\n",
    "  global DB_USER\n",
    "  global DB_PASS\n",
    "  tempDf = spark.read \\\n",
    "            .format(\"jdbc\") \\\n",
    "            .option(\"url\", f\"jdbc:postgresql://{DB_HOST}:{DB_PORT}/{DB_NAME}\") \\\n",
    "            .option(\"dbtable\", tableName) \\\n",
    "            .option(\"user\", DB_USER) \\\n",
    "            .option(\"password\", DB_PASS) \\\n",
    "            .option(\"driver\", \"org.postgresql.Driver\") \\\n",
    "            .load()\n",
    "  return tempDf"
   ]
  },
  {
   "cell_type": "code",
   "execution_count": 5,
   "metadata": {},
   "outputs": [],
   "source": [
    "\n",
    "def executeQuery(query):\n",
    "    tempDf = spark.sql(query)\n",
    "    return tempDf.toPandas()"
   ]
  },
  {
   "cell_type": "code",
   "execution_count": 6,
   "metadata": {},
   "outputs": [],
   "source": [
    "##\n",
    "attendacesDf = tableReader(\"attendances\")\n",
    "attendancesCallsDf = tableReader(\"attendances_calls\")"
   ]
  },
  {
   "cell_type": "code",
   "execution_count": 7,
   "metadata": {},
   "outputs": [],
   "source": [
    "# Relacionamento entre as tabelas Attendances e Attendances_call\n",
    "\n",
    "newAttendacesDf = attendancesCallsDf.join(attendacesDf, attendancesCallsDf.attendance_id == attendacesDf.id, how=\"inner\")"
   ]
  },
  {
   "cell_type": "code",
   "execution_count": 8,
   "metadata": {},
   "outputs": [],
   "source": [
    "# Criacao do Dataframe newAttendacesDf contendo apenas as colunas necessarias para elaboracao dos kpis\n",
    "\n",
    "newAttendacesDf = newAttendacesDf.select(F.col(\"attendance_id\"),\n",
    "                                         F.col(\"token\").alias(\"token_key\"),\n",
    "                                         F.col(\"main_connection\"),\n",
    "                                         F.when(F.col(\"type_id\") == 1, \"Venda\").otherwise(\"Não Venda\").alias(\"record_type\"),\n",
    "                                         F.col(\"monthly_value\").alias(\"monthly_amount\")) \\\n",
    "                                  .dropDuplicates()\n",
    "\n",
    "newAttendacesDf = newAttendacesDf.withColumn(\"attendance_key\", F.monotonically_increasing_id())\n",
    "\n",
    "newAttendacesDf.createOrReplaceTempView(\"dim_attendance\")"
   ]
  },
  {
   "cell_type": "code",
   "execution_count": 9,
   "metadata": {},
   "outputs": [],
   "source": [
    "##\n",
    "lineMKTFinalDf = tableReader(\"lines_mkt_final\")"
   ]
  },
  {
   "cell_type": "code",
   "execution_count": 10,
   "metadata": {},
   "outputs": [],
   "source": [
    "newlineMKTFinalDf = lineMKTFinalDf.select(F.col(\"id\").alias(\"line_key\"),\n",
    "                                          F.col(\"line_id\"),\n",
    "                                          F.col(\"midia\"),\n",
    "                                          F.col(\"campanha\").alias(\"campaign\"),\n",
    "                                          F.col(\"fonte\").alias(\"source\"),\n",
    "                                          F.col(\"pagina\").alias(\"web_page\"))\\\n",
    "                                   .dropDuplicates()\n",
    "newlineMKTFinalDf.createOrReplaceTempView(\"dim_line_mkt\")"
   ]
  },
  {
   "cell_type": "code",
   "execution_count": 11,
   "metadata": {
    "scrolled": true
   },
   "outputs": [],
   "source": [
    "calendarDf = spark.sql(\"SELECT sequence(to_date('2020-01-01'), to_date('2020-12-31'), interval 1 day) as date\")\n",
    "calendarDf = calendarDf.withColumn(\"date\", F.explode(F.col(\"date\")))\n",
    "calendarDf = calendarDf.withColumn(\"day\", F.dayofmonth(\"date\"))\n",
    "calendarDf = calendarDf.withColumn(\"month\", F.month(\"date\"))\n",
    "calendarDf = calendarDf.withColumn(\"year\", F.year(\"date\"))\n",
    "calendarDf = calendarDf.withColumn(\"quarter\", F.quarter(\"date\"))\n",
    "\n"
   ]
  },
  {
   "cell_type": "code",
   "execution_count": 12,
   "metadata": {},
   "outputs": [],
   "source": [
    "#callHistoryQueueDf = callHistoryQueueDf.join(newCalendarDf, newCalendarDf.date == callHistoryQueueDf.created_at, how=\"inner\")\n",
    "\n",
    "newCalendarDf = calendarDf.select(F.col(\"date\"),\n",
    "                                     F.col(\"day\"),\n",
    "                                     F.col(\"month\"),\n",
    "                                     F.col(\"quarter\"),\n",
    "                                     F.col(\"year\"))\\\n",
    "                                     .dropDuplicates()\n",
    "\n",
    "newCalendarDf.createOrReplaceTempView(\"dim_calendar\")         "
   ]
  },
  {
   "cell_type": "code",
   "execution_count": 13,
   "metadata": {},
   "outputs": [],
   "source": [
    "callHistoryQueueDf = tableReader(\"call_history_queue\")\n",
    "telephonyTypeDf = tableReader(\"telephony_types\")"
   ]
  },
  {
   "cell_type": "code",
   "execution_count": 14,
   "metadata": {},
   "outputs": [],
   "source": [
    "telephonyTypeDf = telephonyTypeDf.selectExpr(\"id as phone_id\", \"description as phone_description\")\\\n",
    "                                 .dropDuplicates()\n",
    "\n",
    "callHistoryQueueDf = callHistoryQueueDf.join(telephonyTypeDf.selectExpr(\"phone_id\", \"phone_description as modality\"),\n",
    "                                             callHistoryQueueDf.queue_log_modality_types_id == telephonyTypeDf.phone_id,\n",
    "                                             how=\"left\")\n",
    "\n",
    "callHistoryQueueDf = callHistoryQueueDf.join(telephonyTypeDf.selectExpr(\"phone_id  as verb_types_id\", \"phone_description as call_status\"),\n",
    "                                             callHistoryQueueDf.queue_log_verb_types_id == telephonyTypeDf.phone_id,\n",
    "                                             how=\"left\")\n",
    "\n",
    "callHistoryQueueDf = callHistoryQueueDf.join(telephonyTypeDf.selectExpr(\"phone_id as line_type_id\", \"phone_description as call_group\"),\n",
    "                                             callHistoryQueueDf.queue_log_line_types_id == telephonyTypeDf.phone_id,\n",
    "                                             how=\"left\")\n",
    "\n",
    "newCallHistoryQueueDf = callHistoryQueueDf.select(F.col(\"id\").alias(\"call_key\"),\n",
    "                                                  F.col(\"id\").alias(\"call_id\"),\n",
    "                                                  F.col(\"token\").alias(\"token_key\"),\n",
    "                                                  F.col(\"lines_id\").alias(\"line_id\"),\n",
    "                                                  F.col(\"modality\"),\n",
    "                                                  F.col(\"call_status\"),\n",
    "                                                  F.col(\"call_group\"),\n",
    "                                                  F.col(\"uf\"),\n",
    "                                                  F.col(\"duration\"),\n",
    "                                                  F.col(\"agent\"),\n",
    "                                                  F.to_date(\"created_at\", \"yyyy-MM-dd\").alias(\"created_at\"))\\\n",
    "                                          .dropDuplicates()\n",
    "\n",
    "newCallHistoryQueueDf.createOrReplaceTempView(\"fact_call\")"
   ]
  },
  {
   "cell_type": "code",
   "execution_count": 15,
   "metadata": {},
   "outputs": [],
   "source": [
    "query01 =\"\"\"\n",
    "select date(cq.created_at) as created_at,\n",
    "       count(distinct cq.call_id) as call_id\n",
    "from fact_call cq\n",
    "group by\n",
    "        date(cq.created_at)      \n",
    "order by\n",
    "        created_at\n",
    "\"\"\""
   ]
  },
  {
   "cell_type": "code",
   "execution_count": null,
   "metadata": {},
   "outputs": [],
   "source": [
    "question01Df = executeQuery(query01)\n",
    "question01Df.plot.bar(x='created_at', y='call_id', rot=0)\n",
    "plt.rcParams['figure.figsize'] = (18,8)\n",
    "plt.xticks(rotation=45)\n",
    "plt.show()"
   ]
  },
  {
   "cell_type": "code",
   "execution_count": null,
   "metadata": {},
   "outputs": [],
   "source": []
  },
  {
   "cell_type": "code",
   "execution_count": null,
   "metadata": {},
   "outputs": [],
   "source": []
  },
  {
   "cell_type": "code",
   "execution_count": 194,
   "metadata": {},
   "outputs": [],
   "source": [
    "query03A=\"\"\"\n",
    "select dm.midia\n",
    "      ,count(distinct fc.call_id) as call \n",
    "from dim_line_mkt dm\n",
    "left join \n",
    "         fact_call fc\n",
    "on    dm.line_id = fc.line_id         \n",
    "where   fc.modality = 'Entrada'\n",
    "group by\n",
    "        dm.midia\n",
    "\"\"\""
   ]
  },
  {
   "cell_type": "code",
   "execution_count": 195,
   "metadata": {
    "scrolled": true
   },
   "outputs": [
    {
     "data": {
      "image/png": "[encoded data removed]",
      "text/plain": [
       "<Figure size 1296x576 with 1 Axes>"
      ]
     },
     "metadata": {
      "needs_background": "light"
     },
     "output_type": "display_data"
    }
   ],
   "source": [
    "question03ADf = executeQuery(query03A)\n",
    "question03ADf.plot(x=\"midia\", y=[\"call\"], kind=\"barh\")\n",
    "#plt.rcParams['figure.figsize'] = (18,10)"
   ]
  },
  {
   "cell_type": "code",
   "execution_count": 199,
   "metadata": {},
   "outputs": [],
   "source": [
    "query03B =\"\"\"\n",
    "select \n",
    "        dm.campaign\n",
    "       ,count(distinct fc.call_id) as call_id \n",
    "from dim_line_mkt dm\n",
    "left join\n",
    "        fact_call   fc\n",
    "on    dm.line_id  = fc.line_id    \n",
    "where fc.modality ='Entrada'\n",
    "group by \n",
    "       dm.campaign\n",
    "order by \n",
    "       call_id \n",
    "limit 20       \n",
    "\"\"\""
   ]
  },
  {
   "cell_type": "code",
   "execution_count": null,
   "metadata": {},
   "outputs": [],
   "source": [
    "question03BDf = executeQuery(query03B)\n",
    "question03BDf.plot(x=\"campaign\", y=[\"call_id\"], kind=\"bar\")\n",
    "plt.rcParams['figure.figsize'] = (18,7), \n",
    "plt.xticks(rotation=40)\n",
    "plt.show()"
   ]
  },
  {
   "cell_type": "code",
   "execution_count": null,
   "metadata": {},
   "outputs": [],
   "source": [
    "query04=\"\"\"\n",
    "select  fc.modality\n",
    "        ,da.record_type\n",
    "        ,coalesce(da.monthly_amount,0) as monthly_amount       \n",
    "from fact_call fc\n",
    "left join\n",
    "     dim_attendance da\n",
    "on  fc.token_key = da.token_key  \n",
    "where  da.record_type = 'Venda'\n",
    "\"\"\""
   ]
  },
  {
   "cell_type": "code",
   "execution_count": null,
   "metadata": {},
   "outputs": [],
   "source": [
    "question04Df = executeQuery(query04)\n",
    "sns.boxplot(x=\"modality\", y=\"monthly_amount\", data=question04Df, palette=\"Set3\")"
   ]
  },
  {
   "cell_type": "code",
   "execution_count": null,
   "metadata": {},
   "outputs": [],
   "source": [
    "query05=\"\"\"\n",
    "select fc.uf,\n",
    "       sum(coalesce(da.monthly_amount, 0)) as monthly_amount\n",
    "from fact_call fc \n",
    "left join\n",
    "       dim_attendance da\n",
    "on     fc.token_key = da.token_key  \n",
    "where da.record_type ='Venda'\n",
    "group by\n",
    "        fc.uf\n",
    "order by \n",
    "        monthly_amount asc        \n",
    "       \n",
    "\"\"\""
   ]
  },
  {
   "cell_type": "code",
   "execution_count": 155,
   "metadata": {},
   "outputs": [
    {
     "name": "stdout",
     "output_type": "stream",
     "text": [
      "+---+--------------+\n",
      "| uf|monthly_amount|\n",
      "+---+--------------+\n",
      "| SP|     556934.13|\n",
      "| MG|       88701.0|\n",
      "| RJ|       62269.0|\n",
      "| GO|       61591.0|\n",
      "| PR|       57843.0|\n",
      "| RS|       52540.0|\n",
      "| SC|       31851.0|\n",
      "| BA|       28706.0|\n",
      "| ES|       23036.0|\n",
      "| MA|       19955.0|\n",
      "| CE|       19323.0|\n",
      "| PE|       16477.0|\n",
      "| MS|       16050.0|\n",
      "| PA|       12677.0|\n",
      "| MT|       11607.0|\n",
      "| AM|        9030.0|\n",
      "| SE|        6342.0|\n",
      "| PB|        4165.0|\n",
      "| AL|        3245.0|\n",
      "| PI|        3053.0|\n",
      "+---+--------------+\n",
      "only showing top 20 rows\n",
      "\n"
     ]
    }
   ],
   "source": [
    "spark.sql(query05).show()"
   ]
  },
  {
   "cell_type": "code",
   "execution_count": null,
   "metadata": {},
   "outputs": [],
   "source": [
    "question05Df = executeQuery(query05)\n",
    "question05Df.plot(x=\"uf\", y=\"monthly_amount\", kind=\"barh\")\n",
    "plt.rcParams['figure.figsize'] = (18,10)"
   ]
  },
  {
   "cell_type": "code",
   "execution_count": null,
   "metadata": {},
   "outputs": [],
   "source": []
  },
  {
   "cell_type": "code",
   "execution_count": null,
   "metadata": {},
   "outputs": [],
   "source": []
  },
  {
   "cell_type": "code",
   "execution_count": null,
   "metadata": {},
   "outputs": [],
   "source": []
  },
  {
   "cell_type": "code",
   "execution_count": null,
   "metadata": {},
   "outputs": [],
   "source": []
  },
  {
   "cell_type": "code",
   "execution_count": 141,
   "metadata": {},
   "outputs": [],
   "source": [
    "# Question 02 - \n",
    "query02 =\"\"\"\n",
    "select dl.midia,\n",
    "    sum(coalesce(da.monthly_amount,0)) /\n",
    "    count(distinct case when da.record_type = 'Venda' then Venda end ) as monthly_amount ,\n",
    "    sum(coalesce(da.monthly_amount,0)) / \n",
    "    count(distinct(fc.call_id)) as number_of_calls\n",
    "from    fact_call fc\n",
    "left join\n",
    "        dim_attendance da\n",
    "on      da.token_key = fc.token_key\n",
    "left join\n",
    "        dim_line_mkt dl\n",
    "on      dl.line_id = fc.line_id\n",
    "group by\n",
    "        dl.midia\n",
    "\"\"\""
   ]
  },
  {
   "cell_type": "code",
   "execution_count": 142,
   "metadata": {},
   "outputs": [
    {
     "ename": "AnalysisException",
     "evalue": "cannot resolve '`Venda`' given input columns: [fc.agent, da.attendance_id, da.attendance_key, fc.call_group, fc.call_id, fc.call_key, fc.call_status, dl.campaign, fc.created_at, fc.duration, dl.line_id, fc.line_id, dl.line_key, da.main_connection, dl.midia, fc.modality, da.monthly_amount, da.record_type, dl.source, da.token_key, fc.token_key, fc.uf, dl.web_page]; line 4 pos 59;\n'Aggregate [midia#2547], [midia#2547, (sum(coalesce(monthly_amount#2525, cast(0 as double))) / 'count(CASE WHEN (record_type#2524 = Venda) THEN 'Venda END)) AS monthly_amount#2946, (sum(coalesce(monthly_amount#2525, cast(0 as double))) / cast(count(distinct call_id#2912) as double)) AS number_of_calls#2947]\n+- Join LeftOuter, (cast(line_id#2546 as double) = line_id#2914)\n   :- Join LeftOuter, (token_key#2523 = token_key#2913)\n   :  :- SubqueryAlias fc\n   :  :  +- SubqueryAlias fact_call\n   :  :     +- Deduplicate [duration#2630, call_key#2911, agent#2620, modality#2684, token_key#2913, created_at#2915, call_group#2830, uf#2634, line_id#2914, call_id#2912, call_status#2754]\n   :  :        +- Project [id#2617 AS call_key#2911, id#2617 AS call_id#2912, token#2623 AS token_key#2913, lines_id#2622 AS line_id#2914, modality#2684, call_status#2754, call_group#2830, uf#2634, duration#2630, agent#2620, to_date('created_at, Some(yyyy-MM-dd)) AS created_at#2915]\n   :  :           +- Join LeftOuter, (queue_log_line_types_id#2627 = phone_id#2680)\n   :  :              :- Join LeftOuter, (queue_log_verb_types_id#2628 = phone_id#2680)\n   :  :              :  :- Join LeftOuter, (queue_log_modality_types_id#2632 = phone_id#2680)\n   :  :              :  :  :- Relation[row.names#2616,id#2617,team_id#2618,user_id#2619,agent#2620,queue#2621,lines_id#2622,token#2623,token_group#2624,ddd#2625,phone#2626,queue_log_line_types_id#2627,queue_log_verb_types_id#2628,wait#2629,duration#2630,duration_pos_attendance#2631,queue_log_modality_types_id#2632,locality#2633,uf#2634,created_at#2635] JDBCRelation(call_history_queue) [numPartitions=1]\n   :  :              :  :  +- Project [phone_id#2680, phone_description#2681 AS modality#2684]\n   :  :              :  :     +- Deduplicate [phone_id#2680, phone_description#2681]\n   :  :              :  :        +- Project [id#2657 AS phone_id#2680, description#2658 AS phone_description#2681]\n   :  :              :  :           +- Relation[row.names#2656,id#2657,description#2658,reference#2659,pattern#2660,active#2661,show#2662,types#2663,reports#2664,created_at#2665,updated_at#2666,deleted_at#2667] JDBCRelation(telephony_types) [numPartitions=1]\n   :  :              :  +- Project [phone_id#2680 AS verb_types_id#2753, phone_description#2681 AS call_status#2754]\n   :  :              :     +- Deduplicate [phone_id#2680, phone_description#2681]\n   :  :              :        +- Project [id#2657 AS phone_id#2680, description#2658 AS phone_description#2681]\n   :  :              :           +- Relation[row.names#2656,id#2657,description#2658,reference#2659,pattern#2660,active#2661,show#2662,types#2663,reports#2664,created_at#2665,updated_at#2666,deleted_at#2667] JDBCRelation(telephony_types) [numPartitions=1]\n   :  :              +- Project [phone_id#2680 AS line_type_id#2829, phone_description#2681 AS call_group#2830]\n   :  :                 +- Deduplicate [phone_id#2680, phone_description#2681]\n   :  :                    +- Project [id#2657 AS phone_id#2680, description#2658 AS phone_description#2681]\n   :  :                       +- Relation[row.names#2656,id#2657,description#2658,reference#2659,pattern#2660,active#2661,show#2662,types#2663,reports#2664,created_at#2665,updated_at#2666,deleted_at#2667] JDBCRelation(telephony_types) [numPartitions=1]\n   :  +- SubqueryAlias da\n   :     +- SubqueryAlias dim_attendance\n   :        +- Project [attendance_id#2428, token_key#2523, main_connection#2433, record_type#2524, monthly_amount#2525, monotonically_increasing_id() AS attendance_key#2531L]\n   :           +- Deduplicate [monthly_amount#2525, main_connection#2433, record_type#2524, attendance_id#2428, token_key#2523]\n   :              +- Project [attendance_id#2428, token#2429 AS token_key#2523, main_connection#2433, CASE WHEN (type_id#2404 = cast(1 as double)) THEN Venda ELSE Não Venda END AS record_type#2524, monthly_value#2408 AS monthly_amount#2525]\n   :                 +- Join Inner, (attendance_id#2428 = id#2399)\n   :                    :- Relation[row.names#2426,id#2427,attendance_id#2428,token#2429,phone#2430,queue_number#2431,line_id#2432,main_connection#2433,created_at#2434,updated_at#2435,deleted_at#2436] JDBCRelation(attendances_calls) [numPartitions=1]\n   :                    +- Relation[row.names#2398,id#2399,team_id#2400,customer_id#2401,protocol#2402,status_id#2403,type_id#2404,payment_adhesion_id#2405,adhesion_value#2406,payment_monthly_id#2407,monthly_value#2408,created_at#2409,updated_at#2410,deleted_at#2411] JDBCRelation(attendances) [numPartitions=1]\n   +- SubqueryAlias dl\n      +- SubqueryAlias dim_line_mkt\n         +- Deduplicate [source#2574, web_page#2575, campaign#2573, line_key#2572, midia#2547, line_id#2546]\n            +- Project [id#2545 AS line_key#2572, line_id#2546, midia#2547, campanha#2548 AS campaign#2573, fonte#2549 AS source#2574, pagina#2550 AS web_page#2575]\n               +- Relation[row.names#2544,id#2545,line_id#2546,midia#2547,campanha#2548,fonte#2549,pagina#2550,dominio#2551,destino#2552,operacao#2553,growth#2554,created_at#2555,updated_at#2556,deleted_at#2557] JDBCRelation(lines_mkt_final) [numPartitions=1]\n",
     "output_type": "error",
     "traceback": [
      "\u001b[1;31m---------------------------------------------------------------------------\u001b[0m",
      "\u001b[1;31mAnalysisException\u001b[0m                         Traceback (most recent call last)",
      "\u001b[1;32m<ipython-input-142-d69b853f8147>\u001b[0m in \u001b[0;36m<module>\u001b[1;34m\u001b[0m\n\u001b[1;32m----> 1\u001b[1;33m \u001b[0mspark\u001b[0m\u001b[1;33m.\u001b[0m\u001b[0msql\u001b[0m\u001b[1;33m(\u001b[0m\u001b[0mquery02\u001b[0m\u001b[1;33m)\u001b[0m\u001b[1;33m.\u001b[0m\u001b[0mshow\u001b[0m\u001b[1;33m(\u001b[0m\u001b[1;33m)\u001b[0m\u001b[1;33m\u001b[0m\u001b[1;33m\u001b[0m\u001b[0m\n\u001b[0m",
      "\u001b[1;32mC:\\Spark\\spark-3.0.2-bin-hadoop2.7\\python\\pyspark\\sql\\session.py\u001b[0m in \u001b[0;36msql\u001b[1;34m(self, sqlQuery)\u001b[0m\n\u001b[0;32m    647\u001b[0m         \u001b[1;33m[\u001b[0m\u001b[0mRow\u001b[0m\u001b[1;33m(\u001b[0m\u001b[0mf1\u001b[0m\u001b[1;33m=\u001b[0m\u001b[1;36m1\u001b[0m\u001b[1;33m,\u001b[0m \u001b[0mf2\u001b[0m\u001b[1;33m=\u001b[0m\u001b[1;34mu'row1'\u001b[0m\u001b[1;33m)\u001b[0m\u001b[1;33m,\u001b[0m \u001b[0mRow\u001b[0m\u001b[1;33m(\u001b[0m\u001b[0mf1\u001b[0m\u001b[1;33m=\u001b[0m\u001b[1;36m2\u001b[0m\u001b[1;33m,\u001b[0m \u001b[0mf2\u001b[0m\u001b[1;33m=\u001b[0m\u001b[1;34mu'row2'\u001b[0m\u001b[1;33m)\u001b[0m\u001b[1;33m,\u001b[0m \u001b[0mRow\u001b[0m\u001b[1;33m(\u001b[0m\u001b[0mf1\u001b[0m\u001b[1;33m=\u001b[0m\u001b[1;36m3\u001b[0m\u001b[1;33m,\u001b[0m \u001b[0mf2\u001b[0m\u001b[1;33m=\u001b[0m\u001b[1;34mu'row3'\u001b[0m\u001b[1;33m)\u001b[0m\u001b[1;33m]\u001b[0m\u001b[1;33m\u001b[0m\u001b[1;33m\u001b[0m\u001b[0m\n\u001b[0;32m    648\u001b[0m         \"\"\"\n\u001b[1;32m--> 649\u001b[1;33m         \u001b[1;32mreturn\u001b[0m \u001b[0mDataFrame\u001b[0m\u001b[1;33m(\u001b[0m\u001b[0mself\u001b[0m\u001b[1;33m.\u001b[0m\u001b[0m_jsparkSession\u001b[0m\u001b[1;33m.\u001b[0m\u001b[0msql\u001b[0m\u001b[1;33m(\u001b[0m\u001b[0msqlQuery\u001b[0m\u001b[1;33m)\u001b[0m\u001b[1;33m,\u001b[0m \u001b[0mself\u001b[0m\u001b[1;33m.\u001b[0m\u001b[0m_wrapped\u001b[0m\u001b[1;33m)\u001b[0m\u001b[1;33m\u001b[0m\u001b[1;33m\u001b[0m\u001b[0m\n\u001b[0m\u001b[0;32m    650\u001b[0m \u001b[1;33m\u001b[0m\u001b[0m\n\u001b[0;32m    651\u001b[0m     \u001b[1;33m@\u001b[0m\u001b[0msince\u001b[0m\u001b[1;33m(\u001b[0m\u001b[1;36m2.0\u001b[0m\u001b[1;33m)\u001b[0m\u001b[1;33m\u001b[0m\u001b[1;33m\u001b[0m\u001b[0m\n",
      "\u001b[1;32mC:\\ProgramData\\Anaconda3\\lib\\site-packages\\py4j\\java_gateway.py\u001b[0m in \u001b[0;36m__call__\u001b[1;34m(self, *args)\u001b[0m\n\u001b[0;32m   1302\u001b[0m \u001b[1;33m\u001b[0m\u001b[0m\n\u001b[0;32m   1303\u001b[0m         \u001b[0manswer\u001b[0m \u001b[1;33m=\u001b[0m \u001b[0mself\u001b[0m\u001b[1;33m.\u001b[0m\u001b[0mgateway_client\u001b[0m\u001b[1;33m.\u001b[0m\u001b[0msend_command\u001b[0m\u001b[1;33m(\u001b[0m\u001b[0mcommand\u001b[0m\u001b[1;33m)\u001b[0m\u001b[1;33m\u001b[0m\u001b[1;33m\u001b[0m\u001b[0m\n\u001b[1;32m-> 1304\u001b[1;33m         return_value = get_return_value(\n\u001b[0m\u001b[0;32m   1305\u001b[0m             answer, self.gateway_client, self.target_id, self.name)\n\u001b[0;32m   1306\u001b[0m \u001b[1;33m\u001b[0m\u001b[0m\n",
      "\u001b[1;32mC:\\Spark\\spark-3.0.2-bin-hadoop2.7\\python\\pyspark\\sql\\utils.py\u001b[0m in \u001b[0;36mdeco\u001b[1;34m(*a, **kw)\u001b[0m\n\u001b[0;32m    132\u001b[0m                 \u001b[1;31m# Hide where the exception came from that shows a non-Pythonic\u001b[0m\u001b[1;33m\u001b[0m\u001b[1;33m\u001b[0m\u001b[1;33m\u001b[0m\u001b[0m\n\u001b[0;32m    133\u001b[0m                 \u001b[1;31m# JVM exception message.\u001b[0m\u001b[1;33m\u001b[0m\u001b[1;33m\u001b[0m\u001b[1;33m\u001b[0m\u001b[0m\n\u001b[1;32m--> 134\u001b[1;33m                 \u001b[0mraise_from\u001b[0m\u001b[1;33m(\u001b[0m\u001b[0mconverted\u001b[0m\u001b[1;33m)\u001b[0m\u001b[1;33m\u001b[0m\u001b[1;33m\u001b[0m\u001b[0m\n\u001b[0m\u001b[0;32m    135\u001b[0m             \u001b[1;32melse\u001b[0m\u001b[1;33m:\u001b[0m\u001b[1;33m\u001b[0m\u001b[1;33m\u001b[0m\u001b[0m\n\u001b[0;32m    136\u001b[0m                 \u001b[1;32mraise\u001b[0m\u001b[1;33m\u001b[0m\u001b[1;33m\u001b[0m\u001b[0m\n",
      "\u001b[1;32mC:\\Spark\\spark-3.0.2-bin-hadoop2.7\\python\\pyspark\\sql\\utils.py\u001b[0m in \u001b[0;36mraise_from\u001b[1;34m(e)\u001b[0m\n",
      "\u001b[1;31mAnalysisException\u001b[0m: cannot resolve '`Venda`' given input columns: [fc.agent, da.attendance_id, da.attendance_key, fc.call_group, fc.call_id, fc.call_key, fc.call_status, dl.campaign, fc.created_at, fc.duration, dl.line_id, fc.line_id, dl.line_key, da.main_connection, dl.midia, fc.modality, da.monthly_amount, da.record_type, dl.source, da.token_key, fc.token_key, fc.uf, dl.web_page]; line 4 pos 59;\n'Aggregate [midia#2547], [midia#2547, (sum(coalesce(monthly_amount#2525, cast(0 as double))) / 'count(CASE WHEN (record_type#2524 = Venda) THEN 'Venda END)) AS monthly_amount#2946, (sum(coalesce(monthly_amount#2525, cast(0 as double))) / cast(count(distinct call_id#2912) as double)) AS number_of_calls#2947]\n+- Join LeftOuter, (cast(line_id#2546 as double) = line_id#2914)\n   :- Join LeftOuter, (token_key#2523 = token_key#2913)\n   :  :- SubqueryAlias fc\n   :  :  +- SubqueryAlias fact_call\n   :  :     +- Deduplicate [duration#2630, call_key#2911, agent#2620, modality#2684, token_key#2913, created_at#2915, call_group#2830, uf#2634, line_id#2914, call_id#2912, call_status#2754]\n   :  :        +- Project [id#2617 AS call_key#2911, id#2617 AS call_id#2912, token#2623 AS token_key#2913, lines_id#2622 AS line_id#2914, modality#2684, call_status#2754, call_group#2830, uf#2634, duration#2630, agent#2620, to_date('created_at, Some(yyyy-MM-dd)) AS created_at#2915]\n   :  :           +- Join LeftOuter, (queue_log_line_types_id#2627 = phone_id#2680)\n   :  :              :- Join LeftOuter, (queue_log_verb_types_id#2628 = phone_id#2680)\n   :  :              :  :- Join LeftOuter, (queue_log_modality_types_id#2632 = phone_id#2680)\n   :  :              :  :  :- Relation[row.names#2616,id#2617,team_id#2618,user_id#2619,agent#2620,queue#2621,lines_id#2622,token#2623,token_group#2624,ddd#2625,phone#2626,queue_log_line_types_id#2627,queue_log_verb_types_id#2628,wait#2629,duration#2630,duration_pos_attendance#2631,queue_log_modality_types_id#2632,locality#2633,uf#2634,created_at#2635] JDBCRelation(call_history_queue) [numPartitions=1]\n   :  :              :  :  +- Project [phone_id#2680, phone_description#2681 AS modality#2684]\n   :  :              :  :     +- Deduplicate [phone_id#2680, phone_description#2681]\n   :  :              :  :        +- Project [id#2657 AS phone_id#2680, description#2658 AS phone_description#2681]\n   :  :              :  :           +- Relation[row.names#2656,id#2657,description#2658,reference#2659,pattern#2660,active#2661,show#2662,types#2663,reports#2664,created_at#2665,updated_at#2666,deleted_at#2667] JDBCRelation(telephony_types) [numPartitions=1]\n   :  :              :  +- Project [phone_id#2680 AS verb_types_id#2753, phone_description#2681 AS call_status#2754]\n   :  :              :     +- Deduplicate [phone_id#2680, phone_description#2681]\n   :  :              :        +- Project [id#2657 AS phone_id#2680, description#2658 AS phone_description#2681]\n   :  :              :           +- Relation[row.names#2656,id#2657,description#2658,reference#2659,pattern#2660,active#2661,show#2662,types#2663,reports#2664,created_at#2665,updated_at#2666,deleted_at#2667] JDBCRelation(telephony_types) [numPartitions=1]\n   :  :              +- Project [phone_id#2680 AS line_type_id#2829, phone_description#2681 AS call_group#2830]\n   :  :                 +- Deduplicate [phone_id#2680, phone_description#2681]\n   :  :                    +- Project [id#2657 AS phone_id#2680, description#2658 AS phone_description#2681]\n   :  :                       +- Relation[row.names#2656,id#2657,description#2658,reference#2659,pattern#2660,active#2661,show#2662,types#2663,reports#2664,created_at#2665,updated_at#2666,deleted_at#2667] JDBCRelation(telephony_types) [numPartitions=1]\n   :  +- SubqueryAlias da\n   :     +- SubqueryAlias dim_attendance\n   :        +- Project [attendance_id#2428, token_key#2523, main_connection#2433, record_type#2524, monthly_amount#2525, monotonically_increasing_id() AS attendance_key#2531L]\n   :           +- Deduplicate [monthly_amount#2525, main_connection#2433, record_type#2524, attendance_id#2428, token_key#2523]\n   :              +- Project [attendance_id#2428, token#2429 AS token_key#2523, main_connection#2433, CASE WHEN (type_id#2404 = cast(1 as double)) THEN Venda ELSE Não Venda END AS record_type#2524, monthly_value#2408 AS monthly_amount#2525]\n   :                 +- Join Inner, (attendance_id#2428 = id#2399)\n   :                    :- Relation[row.names#2426,id#2427,attendance_id#2428,token#2429,phone#2430,queue_number#2431,line_id#2432,main_connection#2433,created_at#2434,updated_at#2435,deleted_at#2436] JDBCRelation(attendances_calls) [numPartitions=1]\n   :                    +- Relation[row.names#2398,id#2399,team_id#2400,customer_id#2401,protocol#2402,status_id#2403,type_id#2404,payment_adhesion_id#2405,adhesion_value#2406,payment_monthly_id#2407,monthly_value#2408,created_at#2409,updated_at#2410,deleted_at#2411] JDBCRelation(attendances) [numPartitions=1]\n   +- SubqueryAlias dl\n      +- SubqueryAlias dim_line_mkt\n         +- Deduplicate [source#2574, web_page#2575, campaign#2573, line_key#2572, midia#2547, line_id#2546]\n            +- Project [id#2545 AS line_key#2572, line_id#2546, midia#2547, campanha#2548 AS campaign#2573, fonte#2549 AS source#2574, pagina#2550 AS web_page#2575]\n               +- Relation[row.names#2544,id#2545,line_id#2546,midia#2547,campanha#2548,fonte#2549,pagina#2550,dominio#2551,destino#2552,operacao#2553,growth#2554,created_at#2555,updated_at#2556,deleted_at#2557] JDBCRelation(lines_mkt_final) [numPartitions=1]\n"
     ]
    }
   ],
   "source": [
    "spark.sql(query02).show()"
   ]
  },
  {
   "cell_type": "code",
   "execution_count": null,
   "metadata": {},
   "outputs": [],
   "source": []
  }
 ],
 "metadata": {
  "kernelspec": {
   "display_name": "Python 3",
   "language": "python",
   "name": "python3"
  },
  "language_info": {
   "codemirror_mode": {
    "name": "ipython",
    "version": 3
   },
   "file_extension": ".py",
   "mimetype": "text/x-python",
   "name": "python",
   "nbconvert_exporter": "python",
   "pygments_lexer": "ipython3",
   "version": "3.8.5"
  }
 },
 "nbformat": 4,
 "nbformat_minor": 2
}
